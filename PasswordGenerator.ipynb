{
 "cells": [
  {
   "cell_type": "code",
   "execution_count": 7,
   "id": "c012dab6-9077-4c7d-af43-ffc676e17d7e",
   "metadata": {},
   "outputs": [
    {
     "data": {
      "application/vnd.jupyter.widget-view+json": {
       "model_id": "42dc9208287f4e4caa5ca2fcd0ee680a",
       "version_major": 2,
       "version_minor": 0
      },
      "text/plain": [
       "VBox(children=(Label(value='=======  Password Generator  ======='), VBox(children=(IntSlider(value=12, descrip…"
      ]
     },
     "metadata": {},
     "output_type": "display_data"
    }
   ],
   "source": [
    "import string, secrets, pyperclip\n",
    "import ipywidgets as w\n",
    "from IPython.display import display\n",
    "\n",
    "# Password strength\n",
    "def strength(pw):\n",
    "    score = sum([any(c.islower() for c in pw),\n",
    "                 any(c.isupper() for c in pw),\n",
    "                 any(c.isdigit() for c in pw),\n",
    "                 any(c in string.punctuation for c in pw),\n",
    "                 len(pw) >= 12])\n",
    "    return [\"Very Weak\",\"Weak\",\"Moderate\",\"Strong\",\"Very Strong\"][score-1]\n",
    "\n",
    "# Generate password\n",
    "def gen_pw(length, lower, upper, digits, symbols):\n",
    "    chars = (lower*string.ascii_lowercase +\n",
    "             upper*string.ascii_uppercase +\n",
    "             digits*string.digits +\n",
    "             symbols*string.punctuation)\n",
    "    if not chars: return \"Error: No character sets!\"\n",
    "    return ''.join(secrets.choice(chars) for _ in range(length))\n",
    "\n",
    "# Button action\n",
    "def on_generate(_):\n",
    "    output.clear_output()\n",
    "    with output:\n",
    "        print(\"Generated Passwords:\")\n",
    "        for i in range(num_pw.value):\n",
    "            pw = gen_pw(length.value, lower.value, upper.value, digits.value, symbols.value)\n",
    "            print(f\"{i+1}. {pw}   ({strength(pw)})\")\n",
    "\n",
    "# Widgets\n",
    "length = w.IntSlider(value=12, min=4, max=32, step=1, description=\"Length:\")\n",
    "num_pw = w.IntText(value=3, description=\"Number:\")\n",
    "lower  = w.Checkbox(value=True, description=\"Lowercase\")\n",
    "upper  = w.Checkbox(value=True, description=\"Uppercase\")\n",
    "digits = w.Checkbox(value=True, description=\"Digits\")\n",
    "symbols= w.Checkbox(value=False, description=\"Symbols\")\n",
    "btn    = w.Button(description=\"Generate Passwords\")\n",
    "output = w.Output()\n",
    "\n",
    "btn.on_click(on_generate)\n",
    "\n",
    "# Layout\n",
    "app = w.VBox([\n",
    "    w.Label(\"=======  Password Generator  =======\"),\n",
    "    w.VBox([length,num_pw,lower,upper,digits,symbols]),\n",
    "    btn, output\n",
    "])\n",
    "display(app)"
   ]
  },
  {
   "cell_type": "code",
   "execution_count": null,
   "id": "888b6adf-af15-4fc3-b27c-b4026ebdc7ed",
   "metadata": {},
   "outputs": [],
   "source": []
  }
 ],
 "metadata": {
  "kernelspec": {
   "display_name": "Python 3 (ipykernel)",
   "language": "python",
   "name": "python3"
  },
  "language_info": {
   "codemirror_mode": {
    "name": "ipython",
    "version": 3
   },
   "file_extension": ".py",
   "mimetype": "text/x-python",
   "name": "python",
   "nbconvert_exporter": "python",
   "pygments_lexer": "ipython3",
   "version": "3.13.5"
  }
 },
 "nbformat": 4,
 "nbformat_minor": 5
}
